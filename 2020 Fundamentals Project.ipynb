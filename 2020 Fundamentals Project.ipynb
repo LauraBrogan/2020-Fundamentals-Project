{
 "cells": [
  {
   "cell_type": "markdown",
   "metadata": {},
   "source": [
    "# Fundamentals of Data Analysis Project 2020\n",
    "This project will look at the powerproduction dataset.  This data set contains 501 rows and 2 columns, it gives the speed and power of wind turbines.  I"
   ]
  },
  {
   "cell_type": "code",
   "execution_count": 1,
   "metadata": {},
   "outputs": [],
   "source": [
    "import pandas as pd\n",
    "import matplotlib.pyplot as plt\n",
    "import numpy as np\n",
    "from sklearn.linear_model import LinearRegression\n",
    "\n",
    "df=pd.read_csv (r\"C:\\Users\\david\\OneDrive\\Documents\\College\\GMIT\\Fundamentals of Data Analysis\\Project 2020\\2020-Fundamentals-Project\\powerproduction.csv\")"
   ]
  },
  {
   "cell_type": "code",
   "execution_count": 2,
   "metadata": {},
   "outputs": [
    {
     "data": {
      "text/html": [
       "<div>\n",
       "<style scoped>\n",
       "    .dataframe tbody tr th:only-of-type {\n",
       "        vertical-align: middle;\n",
       "    }\n",
       "\n",
       "    .dataframe tbody tr th {\n",
       "        vertical-align: top;\n",
       "    }\n",
       "\n",
       "    .dataframe thead th {\n",
       "        text-align: right;\n",
       "    }\n",
       "</style>\n",
       "<table border=\"1\" class=\"dataframe\">\n",
       "  <thead>\n",
       "    <tr style=\"text-align: right;\">\n",
       "      <th></th>\n",
       "      <th>speed</th>\n",
       "      <th>power</th>\n",
       "    </tr>\n",
       "  </thead>\n",
       "  <tbody>\n",
       "    <tr>\n",
       "      <th>0</th>\n",
       "      <td>0.000</td>\n",
       "      <td>0.0</td>\n",
       "    </tr>\n",
       "    <tr>\n",
       "      <th>1</th>\n",
       "      <td>0.125</td>\n",
       "      <td>0.0</td>\n",
       "    </tr>\n",
       "    <tr>\n",
       "      <th>2</th>\n",
       "      <td>0.150</td>\n",
       "      <td>0.0</td>\n",
       "    </tr>\n",
       "    <tr>\n",
       "      <th>3</th>\n",
       "      <td>0.225</td>\n",
       "      <td>0.0</td>\n",
       "    </tr>\n",
       "    <tr>\n",
       "      <th>4</th>\n",
       "      <td>0.275</td>\n",
       "      <td>0.0</td>\n",
       "    </tr>\n",
       "  </tbody>\n",
       "</table>\n",
       "</div>"
      ],
      "text/plain": [
       "   speed  power\n",
       "0  0.000    0.0\n",
       "1  0.125    0.0\n",
       "2  0.150    0.0\n",
       "3  0.225    0.0\n",
       "4  0.275    0.0"
      ]
     },
     "execution_count": 2,
     "metadata": {},
     "output_type": "execute_result"
    }
   ],
   "source": [
    "df.head()"
   ]
  },
  {
   "cell_type": "code",
   "execution_count": 3,
   "metadata": {},
   "outputs": [
    {
     "data": {
      "text/html": [
       "<div>\n",
       "<style scoped>\n",
       "    .dataframe tbody tr th:only-of-type {\n",
       "        vertical-align: middle;\n",
       "    }\n",
       "\n",
       "    .dataframe tbody tr th {\n",
       "        vertical-align: top;\n",
       "    }\n",
       "\n",
       "    .dataframe thead th {\n",
       "        text-align: right;\n",
       "    }\n",
       "</style>\n",
       "<table border=\"1\" class=\"dataframe\">\n",
       "  <thead>\n",
       "    <tr style=\"text-align: right;\">\n",
       "      <th></th>\n",
       "      <th>speed</th>\n",
       "      <th>power</th>\n",
       "    </tr>\n",
       "  </thead>\n",
       "  <tbody>\n",
       "    <tr>\n",
       "      <th>495</th>\n",
       "      <td>24.775</td>\n",
       "      <td>0.0</td>\n",
       "    </tr>\n",
       "    <tr>\n",
       "      <th>496</th>\n",
       "      <td>24.850</td>\n",
       "      <td>0.0</td>\n",
       "    </tr>\n",
       "    <tr>\n",
       "      <th>497</th>\n",
       "      <td>24.875</td>\n",
       "      <td>0.0</td>\n",
       "    </tr>\n",
       "    <tr>\n",
       "      <th>498</th>\n",
       "      <td>24.950</td>\n",
       "      <td>0.0</td>\n",
       "    </tr>\n",
       "    <tr>\n",
       "      <th>499</th>\n",
       "      <td>25.000</td>\n",
       "      <td>0.0</td>\n",
       "    </tr>\n",
       "  </tbody>\n",
       "</table>\n",
       "</div>"
      ],
      "text/plain": [
       "      speed  power\n",
       "495  24.775    0.0\n",
       "496  24.850    0.0\n",
       "497  24.875    0.0\n",
       "498  24.950    0.0\n",
       "499  25.000    0.0"
      ]
     },
     "execution_count": 3,
     "metadata": {},
     "output_type": "execute_result"
    }
   ],
   "source": [
    "df.tail()"
   ]
  },
  {
   "cell_type": "code",
   "execution_count": 4,
   "metadata": {},
   "outputs": [
    {
     "data": {
      "text/html": [
       "<div>\n",
       "<style scoped>\n",
       "    .dataframe tbody tr th:only-of-type {\n",
       "        vertical-align: middle;\n",
       "    }\n",
       "\n",
       "    .dataframe tbody tr th {\n",
       "        vertical-align: top;\n",
       "    }\n",
       "\n",
       "    .dataframe thead th {\n",
       "        text-align: right;\n",
       "    }\n",
       "</style>\n",
       "<table border=\"1\" class=\"dataframe\">\n",
       "  <thead>\n",
       "    <tr style=\"text-align: right;\">\n",
       "      <th></th>\n",
       "      <th>speed</th>\n",
       "      <th>power</th>\n",
       "    </tr>\n",
       "  </thead>\n",
       "  <tbody>\n",
       "    <tr>\n",
       "      <th>count</th>\n",
       "      <td>500.000000</td>\n",
       "      <td>500.000000</td>\n",
       "    </tr>\n",
       "    <tr>\n",
       "      <th>mean</th>\n",
       "      <td>12.590398</td>\n",
       "      <td>48.014584</td>\n",
       "    </tr>\n",
       "    <tr>\n",
       "      <th>std</th>\n",
       "      <td>7.224991</td>\n",
       "      <td>41.614572</td>\n",
       "    </tr>\n",
       "    <tr>\n",
       "      <th>min</th>\n",
       "      <td>0.000000</td>\n",
       "      <td>0.000000</td>\n",
       "    </tr>\n",
       "    <tr>\n",
       "      <th>25%</th>\n",
       "      <td>6.324750</td>\n",
       "      <td>5.288000</td>\n",
       "    </tr>\n",
       "    <tr>\n",
       "      <th>50%</th>\n",
       "      <td>12.550500</td>\n",
       "      <td>41.645500</td>\n",
       "    </tr>\n",
       "    <tr>\n",
       "      <th>75%</th>\n",
       "      <td>18.775250</td>\n",
       "      <td>93.537000</td>\n",
       "    </tr>\n",
       "    <tr>\n",
       "      <th>max</th>\n",
       "      <td>25.000000</td>\n",
       "      <td>113.556000</td>\n",
       "    </tr>\n",
       "  </tbody>\n",
       "</table>\n",
       "</div>"
      ],
      "text/plain": [
       "            speed       power\n",
       "count  500.000000  500.000000\n",
       "mean    12.590398   48.014584\n",
       "std      7.224991   41.614572\n",
       "min      0.000000    0.000000\n",
       "25%      6.324750    5.288000\n",
       "50%     12.550500   41.645500\n",
       "75%     18.775250   93.537000\n",
       "max     25.000000  113.556000"
      ]
     },
     "execution_count": 4,
     "metadata": {},
     "output_type": "execute_result"
    }
   ],
   "source": [
    "df.describe()"
   ]
  },
  {
   "cell_type": "code",
   "execution_count": 5,
   "metadata": {},
   "outputs": [],
   "source": [
    "# Make matplotlib show interactive plots in the notebook.\n",
    "%matplotlib inline"
   ]
  },
  {
   "cell_type": "code",
   "execution_count": 6,
   "metadata": {},
   "outputs": [
    {
     "name": "stdout",
     "output_type": "stream",
     "text": [
      "0       0.000\n",
      "1       0.125\n",
      "2       0.150\n",
      "3       0.225\n",
      "4       0.275\n",
      "        ...  \n",
      "495    24.775\n",
      "496    24.850\n",
      "497    24.875\n",
      "498    24.950\n",
      "499    25.000\n",
      "Name: speed, Length: 500, dtype: float64\n",
      "0      0.0\n",
      "1      0.0\n",
      "2      0.0\n",
      "3      0.0\n",
      "4      0.0\n",
      "      ... \n",
      "495    0.0\n",
      "496    0.0\n",
      "497    0.0\n",
      "498    0.0\n",
      "499    0.0\n",
      "Name: power, Length: 500, dtype: float64\n"
     ]
    }
   ],
   "source": [
    "x = df['speed']\n",
    "y = df['power']\n",
    "print (x)\n",
    "print(y)"
   ]
  },
  {
   "cell_type": "code",
   "execution_count": 7,
   "metadata": {},
   "outputs": [
    {
     "name": "stdout",
     "output_type": "stream",
     "text": [
      "['speed', '0.000', '0.125', '0.150', '0.225', '0.275', '0.325', '0.400', '0.450', '0.501', '0.526', '0.551', '0.576', '0.626', '0.676', '0.701', '0.726', '0.751', '0.801', '0.826', '0.851', '0.926', '0.951', '0.976', '1.001', '1.026', '1.051', '1.076', '1.101', '1.151', '1.251', '1.276', '1.301', '1.401', '1.426', '1.502', '1.552', '1.652', '1.677', '1.702', '1.827', '1.877', '1.902', '2.027', '2.077', '2.102', '2.177', '2.227', '2.252', '2.402', '2.477', '2.553', '2.578', '2.703', '2.828', '2.853', '2.953', '3.003', '3.028', '3.053', '3.078', '3.128', '3.203', '3.378', '3.403', '3.428', '3.504', '3.529', '3.579', '3.604', '3.629', '3.679', '3.704', '3.729', '3.779', '3.804', '3.879', '3.904', '3.929', '3.954', '3.979', '4.179', '4.304', '4.329', '4.429', '4.530', '4.555', '4.605', '4.730', '4.780', '4.880', '4.905', '4.930', '4.955', '4.980', '5.030', '5.080', '5.130', '5.180', '5.205', '5.255', '5.280', '5.305', '5.430', '5.455', '5.506', '5.556', '5.631', '5.681', '5.706', '5.731', '5.781', '5.806', '5.831', '5.906', '5.931', '5.956', '5.981', '6.006', '6.031', '6.081', '6.106', '6.131', '6.156', '6.181', '6.231', '6.356', '6.406', '6.456', '6.481', '6.607', '6.682', '6.732', '6.757', '6.782', '6.832', '6.857', '6.957', '6.982', '7.057', '7.082', '7.107', '7.157', '7.182', '7.207', '7.232', '7.257', '7.307', '7.382', '7.407', '7.432', '7.508', '7.558', '7.608', '7.633', '7.683', '7.708', '7.733', '7.808', '7.833', '7.858', '7.883', '7.908', '7.933', '8.033', '8.083', '8.133', '8.183', '8.208', '8.308', '8.408', '8.458', '8.534', '8.634', '8.659', '8.684', '8.759', '8.834', '8.859', '8.884', '8.959', '9.209', '9.259', '9.309', '9.434', '9.535', '9.560', '9.610', '9.735', '9.810', '9.835', '9.860', '9.885', '9.935', '9.960', '9.985', '10.035', '10.085', '10.110', '10.135', '10.160', '10.185', '10.210', '10.235', '10.260', '10.285', '10.360', '10.385', '10.485', '10.511', '10.561', '10.661', '10.711', '10.736', '10.761', '10.886', '10.961', '10.986', '11.011', '11.036', '11.111', '11.161', '11.211', '11.286', '11.311', '11.336', '11.361', '11.386', '11.612', '11.662', '11.687', '11.737', '11.787', '11.812', '11.862', '11.937', '11.962', '11.987', '12.037', '12.162', '12.187', '12.212', '12.262', '12.287', '12.337', '12.362', '12.387', '12.412', '12.462', '12.487', '12.538', '12.563', '12.588', '12.613', '12.663', '12.713', '12.738', '12.788', '12.863', '12.888', '12.963', '12.988', '13.038', '13.263', '13.313', '13.338', '13.388', '13.438', '13.539', '13.564', '13.714', '13.739', '13.939', '13.964', '13.989', '14.014', '14.039', '14.139', '14.189', '14.264', '14.289', '14.339', '14.364', '14.389', '14.489', '14.540', '14.590', '14.615', '14.640', '14.715', '14.740', '14.765', '14.840', '14.865', '15.065', '15.115', '15.140', '15.165', '15.190', '15.215', '15.240', '15.265', '15.315', '15.340', '15.415', '15.465', '15.490', '15.541', '15.591', '15.666', '15.716', '15.741', '15.766', '15.816', '15.916', '15.991', '16.041', '16.066', '16.091', '16.191', '16.241', '16.291', '16.366', '16.441', '16.466', '16.567', '16.592', '16.617', '16.667', '16.692', '16.717', '16.792', '16.842', '16.917', '16.942', '16.967', '16.992', '17.017', '17.067', '17.117', '17.142', '17.167', '17.267', '17.317', '17.342', '17.367', '17.417', '17.442', '17.467', '17.492', '17.518', '17.543', '17.568', '17.593', '17.618', '17.643', '17.793', '17.818', '17.843', '17.893', '18.043', '18.068', '18.093', '18.218', '18.268', '18.318', '18.368', '18.393', '18.418', '18.519', '18.544', '18.594', '18.619', '18.694', '18.744', '18.769', '18.794', '18.844', '18.869', '18.919', '18.944', '18.994', '19.044', '19.069', '19.094', '19.169', '19.194', '19.269', '19.444', '19.545', '19.570', '19.595', '19.620', '19.645', '19.670', '19.695', '19.720', '19.770', '19.795', '19.820', '19.845', '19.895', '19.945', '19.970', '20.045', '20.095', '20.120', '20.145', '20.170', '20.220', '20.270', '20.295', '20.320', '20.345', '20.470', '20.521', '20.571', '20.646', '20.671', '20.771', '20.796', '20.871', '21.046', '21.071', '21.121', '21.321', '21.396', '21.421', '21.446', '21.471', '21.496', '21.622', '21.672', '21.722', '21.822', '21.847', '21.922', '22.022', '22.072', '22.147', '22.222', '22.247', '22.272', '22.297', '22.322', '22.347', '22.422', '22.472', '22.497', '22.523', '22.623', '22.673', '22.723', '22.773', '22.798', '22.823', '22.873', '22.998', '23.023', '23.123', '23.223', '23.248', '23.273', '23.298', '23.323', '23.348', '23.373', '23.423', '23.473', '23.498', '23.549', '23.574', '23.599', '23.624', '23.699', '23.724', '23.799', '23.824', '23.849', '23.899', '23.949', '23.974', '24.024', '24.049', '24.174', '24.199', '24.249', '24.299', '24.349', '24.374', '24.399', '24.499', '24.525', '24.575', '24.650', '24.750', '24.775', '24.850', '24.875', '24.950', '25.000']\n",
      "['power', '0.000', '0.000', '0.000', '0.000', '0.000', '4.331', '5.186', '3.826', '1.048', '5.553', '6.498', '5.241', '4.220', '7.974', '9.746', '0.000', '0.000', '7.271', '0.795', '7.350', '1.996', '1.609', '2.064', '6.511', '0.000', '2.085', '0.000', '0.121', '1.208', '3.373', '6.510', '0.000', '4.156', '2.005', '5.352', '0.000', '7.221', '0.000', '2.439', '0.000', '2.359', '7.048', '0.000', '0.000', '0.000', '2.701', '2.869', '0.000', '2.287', '6.947', '2.370', '3.165', '0.667', '7.559', '14.131', '2.894', '3.578', '2.633', '2.836', '3.063', '0.000', '1.360', '4.334', '2.167', '6.819', '0.000', '5.300', '0.000', '1.535', '9.890', '0.000', '2.270', '4.595', '0.000', '0.000', '0.000', '4.453', '4.415', '0.132', '2.030', '1.035', '4.437', '1.043', '0.000', '3.934', '6.824', '13.592', '0.820', '10.444', '0.000', '7.060', '0.946', '1.907', '1.681', '9.519', '2.973', '8.623', '4.525', '0.932', '2.478', '0.113', '11.664', '0.929', '4.454', '3.200', '0.000', '6.184', '3.036', '1.626', '5.631', '0.000', '0.000', '4.380', '1.826', '0.000', '4.292', '2.762', '5.539', '3.912', '3.960', '0.997', '10.864', '2.236', '5.347', '6.491', '5.842', '6.446', '3.510', '10.262', '5.682', '10.044', '9.079', '1.530', '0.000', '8.616', '0.000', '0.000', '4.187', '1.485', '9.779', '0.000', '7.973', '0.067', '8.238', '9.406', '5.252', '4.243', '4.597', '3.122', '0.000', '9.034', '6.853', '8.471', '14.788', '7.245', '10.297', '4.443', '13.142', '11.321', '9.385', '5.947', '14.511', '5.696', '6.983', '5.385', '11.749', '7.830', '7.785', '9.812', '6.656', '3.000', '11.422', '13.113', '16.413', '9.420', '8.937', '10.760', '14.160', '16.697', '5.554', '11.120', '13.774', '12.881', '18.036', '18.042', '9.911', '14.055', '17.393', '24.164', '15.394', '14.845', '27.136', '13.784', '13.657', '19.354', '16.139', '20.709', '26.427', '12.624', '16.474', '22.305', '20.704', '30.341', '24.293', '20.636', '28.181', '22.216', '13.520', '0.000', '22.758', '26.927', '24.942', '15.638', '23.688', '30.483', '31.153', '27.688', '28.452', '28.221', '31.336', '29.601', '31.530', '34.693', '40.224', '33.589', '38.184', '38.636', '31.214', '41.486', '42.485', '38.552', '36.787', '31.840', '41.692', '51.681', '37.294', '47.268', '39.584', '41.599', '45.056', '43.198', '46.136', '43.454', '47.282', '40.519', '37.159', '52.952', '44.745', '44.735', '44.801', '42.336', '54.079', '51.471', '44.880', '51.149', '47.344', '50.658', '47.787', '53.954', '53.281', '49.796', '58.168', '62.830', '59.735', '64.541', '62.315', '65.605', '65.889', '63.383', '61.127', '63.265', '63.910', '68.232', '65.596', '69.240', '66.550', '66.596', '67.263', '67.512', '68.616', '65.642', '76.551', '64.221', '71.763', '73.652', '67.269', '72.016', '79.586', '78.499', '69.699', '82.147', '75.466', '72.135', '73.911', '78.284', '77.725', '69.248', '77.164', '80.183', '71.787', '80.390', '87.230', '78.987', '83.251', '80.418', '78.528', '85.891', '81.239', '86.288', '87.285', '79.720', '84.133', '87.741', '78.991', '78.994', '78.632', '86.611', '90.412', '85.173', '87.192', '85.999', '88.042', '89.134', '96.592', '87.663', '92.997', '97.274', '92.753', '89.527', '93.698', '90.171', '97.532', '90.761', '94.925', '95.593', '91.808', '91.491', '94.093', '91.270', '95.622', '0.000', '100.831', '96.970', '89.613', '91.206', '95.396', '85.533', '100.889', '91.125', '87.731', '90.435', '89.569', '90.142', '93.380', '102.322', '100.429', '93.105', '91.270', '90.546', '91.490', '97.427', '89.789', '87.980', '90.751', '99.090', '98.540', '98.855', '99.214', '93.769', '104.161', '100.485', '99.242', '96.058', '96.642', '102.440', '96.054', '92.655', '87.986', '89.047', '98.078', '100.142', '102.364', '100.287', '97.148', '103.387', '100.428', '96.725', '100.372', '98.272', '94.850', '92.203', '91.501', '92.461', '96.544', '97.173', '103.629', '92.610', '94.780', '94.071', '104.188', '94.489', '99.472', '98.790', '99.697', '0.000', '89.078', '99.029', '96.963', '101.507', '95.012', '107.584', '100.699', '104.258', '101.270', '94.980', '103.405', '112.362', '99.537', '96.341', '94.216', '108.485', '99.103', '96.348', '101.212', '98.682', '88.544', '101.721', '100.937', '97.671', '89.713', '103.433', '106.208', '97.797', '103.268', '103.922', '104.052', '104.516', '99.460', '102.281', '96.650', '93.931', '93.567', '101.190', '100.206', '97.803', '99.357', '103.306', '109.932', '97.256', '100.558', '100.698', '93.964', '102.544', '98.067', '101.342', '100.549', '0.000', '101.308', '101.654', '102.462', '104.655', '113.556', '96.337', '98.279', '108.167', '104.977', '97.523', '94.867', '93.527', '98.066', '101.120', '100.311', '102.644', '91.880', '96.986', '94.671', '97.334', '100.322', '100.089', '95.364', '94.270', '105.992', '93.524', '95.869', '101.419', '103.700', '93.694', '93.078', '98.223', '95.117', '0.000', '0.000', '0.000', '0.000', '0.000', '0.000', '0.000', '0.000', '0.000', '0.000']\n"
     ]
    }
   ],
   "source": [
    "import csv\n",
    "\n",
    "speed = []\n",
    "power = []\n",
    "\n",
    "with open('powerproduction.csv') as csvDataFile:\n",
    "    csvReader = csv.reader(csvDataFile)\n",
    "    for row in csvReader:\n",
    "        speed.append(row[0])\n",
    "        power.append(row[1])\n",
    "\n",
    "print(speed)\n",
    "print(power)"
   ]
  },
  {
   "cell_type": "code",
   "execution_count": 11,
   "metadata": {},
   "outputs": [
    {
     "data": {
      "image/png": "[encoded data removed]",
      "text/plain": [
       "<Figure size 432x288 with 1 Axes>"
      ]
     },
     "metadata": {
      "needs_background": "light"
     },
     "output_type": "display_data"
    }
   ],
   "source": [
    "#from matplotlib import pyplot as plt\n",
    "#import pandas as pd\n",
    "#%matplotlib inline\n",
    "#powerproduction = pd.read_csv('powerproduction.csv')\n",
    "# prepare data\n",
    "speed = df['speed'].tolist()\n",
    "power = df['power'].tolist()\n",
    "# plot\n",
    "plt.scatter(speed, power)\n",
    "plt.show()\n",
    "# Create the plot of speed v power.\n",
    "#https://www.w3schools.com/python/python_ml_linear_regression.asp\n",
    "#Class Notes\n",
    "#plt.plot(speed, power, 'k.')\n",
    "#plt.xlabel('Speed')\n",
    "#plt.ylabel('Power')\n",
    "#plt.show()"
   ]
  },
  {
   "cell_type": "code",
   "execution_count": 19,
   "metadata": {},
   "outputs": [
    {
     "name": "stdout",
     "output_type": "stream",
     "text": [
      "coefficent of determination: 0.7289360258564073\n",
      "intercept: -13.899902630519634\n",
      "slope: [4.91759567]\n"
     ]
    }
   ],
   "source": [
    "#https://realpython.com/linear-regression-in-python/\n",
    "model=LinearRegression().fit(speed,power)\n",
    "r_sq=model.score(speed,power)\n",
    "print ('coefficent of determination:',r_sq)\n",
    "print('intercept:', model.intercept_)\n",
    "print('slope:', model.coef_)"
   ]
  },
  {
   "cell_type": "code",
   "execution_count": 20,
   "metadata": {},
   "outputs": [
    {
     "name": "stdout",
     "output_type": "stream",
     "text": [
      "predicted response:\n",
      "[-1.38999026e+01 -1.32852032e+01 -1.31622633e+01 -1.27934436e+01\n",
      " -1.25475638e+01 -1.23016840e+01 -1.19328644e+01 -1.16869846e+01\n",
      " -1.14361872e+01 -1.13132473e+01 -1.11903074e+01 -1.10673675e+01\n",
      " -1.08214877e+01 -1.05756080e+01 -1.04526681e+01 -1.03297282e+01\n",
      " -1.02067883e+01 -9.96090850e+00 -9.83796861e+00 -9.71502872e+00\n",
      " -9.34620904e+00 -9.22326915e+00 -9.10032926e+00 -8.97738937e+00\n",
      " -8.85444948e+00 -8.73150959e+00 -8.60856969e+00 -8.48562980e+00\n",
      " -8.23975002e+00 -7.74799045e+00 -7.62505056e+00 -7.50211067e+00\n",
      " -7.01035110e+00 -6.88741121e+00 -6.51367394e+00 -6.26779416e+00\n",
      " -5.77603459e+00 -5.65309470e+00 -5.53015481e+00 -4.91545535e+00\n",
      " -4.66957557e+00 -4.54663567e+00 -3.93193622e+00 -3.68605643e+00\n",
      " -3.56311654e+00 -3.19429687e+00 -2.94841708e+00 -2.82547719e+00\n",
      " -2.08783784e+00 -1.71901817e+00 -1.34528090e+00 -1.22234101e+00\n",
      " -6.07641547e-01  7.05791124e-03  1.29997803e-01  6.21757369e-01\n",
      "  8.67637153e-01  9.90577044e-01  1.11351694e+00  1.23645683e+00\n",
      "  1.48233661e+00  1.85115629e+00  2.71173553e+00  2.83467542e+00\n",
      "  2.95761531e+00  3.33135258e+00  3.45429247e+00  3.70017226e+00\n",
      "  3.82311215e+00  3.94605204e+00  4.19193182e+00  4.31487171e+00\n",
      "  4.43781161e+00  4.68369139e+00  4.80663128e+00  5.17545096e+00\n",
      "  5.29839085e+00  5.42133074e+00  5.54427063e+00  5.66721052e+00\n",
      "  6.65072966e+00  7.26542911e+00  7.38836901e+00  7.88012857e+00\n",
      "  8.37680573e+00  8.49974563e+00  8.74562541e+00  9.36032487e+00\n",
      "  9.60620465e+00  1.00979642e+01  1.02209041e+01  1.03438440e+01\n",
      "  1.04667839e+01  1.05897238e+01  1.08356036e+01  1.10814833e+01\n",
      "  1.13273631e+01  1.15732429e+01  1.16961828e+01  1.19420626e+01\n",
      "  1.20650025e+01  1.21879424e+01  1.28026418e+01  1.29255817e+01\n",
      "  1.31763791e+01  1.34222589e+01  1.37910786e+01  1.40369583e+01\n",
      "  1.41598982e+01  1.42828381e+01  1.45287179e+01  1.46516578e+01\n",
      "  1.47745977e+01  1.51434174e+01  1.52663573e+01  1.53892972e+01\n",
      "  1.55122370e+01  1.56351769e+01  1.57581168e+01  1.60039966e+01\n",
      "  1.61269365e+01  1.62498764e+01  1.63728163e+01  1.64957562e+01\n",
      "  1.67416360e+01  1.73563354e+01  1.76022152e+01  1.78480950e+01\n",
      "  1.79710349e+01  1.85906519e+01  1.89594716e+01  1.92053514e+01\n",
      "  1.93282913e+01  1.94512312e+01  1.96971110e+01  1.98200508e+01\n",
      "  2.03118104e+01  2.04347503e+01  2.08035700e+01  2.09265099e+01\n",
      "  2.10494498e+01  2.12953295e+01  2.14182694e+01  2.15412093e+01\n",
      "  2.16641492e+01  2.17870891e+01  2.20329689e+01  2.24017886e+01\n",
      "  2.25247285e+01  2.26476684e+01  2.30214056e+01  2.32672854e+01\n",
      "  2.35131652e+01  2.36361051e+01  2.38819849e+01  2.40049248e+01\n",
      "  2.41278647e+01  2.44966843e+01  2.46196242e+01  2.47425641e+01\n",
      "  2.48655040e+01  2.49884439e+01  2.51113838e+01  2.56031433e+01\n",
      "  2.58490231e+01  2.60949029e+01  2.63407827e+01  2.64637226e+01\n",
      "  2.69554822e+01  2.74472417e+01  2.76931215e+01  2.80668588e+01\n",
      "  2.85586183e+01  2.86815582e+01  2.88044981e+01  2.91733178e+01\n",
      "  2.95421375e+01  2.96650774e+01  2.97880173e+01  3.01568369e+01\n",
      "  3.13862359e+01  3.16321156e+01  3.18779954e+01  3.24926949e+01\n",
      "  3.29893720e+01  3.31123119e+01  3.33581917e+01  3.39728912e+01\n",
      "  3.43417108e+01  3.44646507e+01  3.45875906e+01  3.47105305e+01\n",
      "  3.49564103e+01  3.50793502e+01  3.52022901e+01  3.54481699e+01\n",
      "  3.56940497e+01  3.58169895e+01  3.59399294e+01  3.60628693e+01\n",
      "  3.61858092e+01  3.63087491e+01  3.64316890e+01  3.65546289e+01\n",
      "  3.66775688e+01  3.70463885e+01  3.71693284e+01  3.76610879e+01\n",
      "  3.77889454e+01  3.80348252e+01  3.85265848e+01  3.87724645e+01\n",
      "  3.88954044e+01  3.90183443e+01  3.96330438e+01  4.00018635e+01\n",
      "  4.01248033e+01  4.02477432e+01  4.03706831e+01  4.07395028e+01\n",
      "  4.09853826e+01  4.12312624e+01  4.16000820e+01  4.17230219e+01\n",
      "  4.18459618e+01  4.19689017e+01  4.20918416e+01  4.32032182e+01\n",
      "  4.34490980e+01  4.35720379e+01  4.38179177e+01  4.40637975e+01\n",
      "  4.41867374e+01  4.44326172e+01  4.48014368e+01  4.49243767e+01\n",
      "  4.50473166e+01  4.52931964e+01  4.59078959e+01  4.60308357e+01\n",
      "  4.61537756e+01  4.63996554e+01  4.65225953e+01  4.67684751e+01\n",
      "  4.68914150e+01  4.70143549e+01  4.71372948e+01  4.73831746e+01\n",
      "  4.75061144e+01  4.77569118e+01  4.78798517e+01  4.80027916e+01\n",
      "  4.81257315e+01  4.83716113e+01  4.86174911e+01  4.87404310e+01\n",
      "  4.89863107e+01  4.93551304e+01  4.94780703e+01  4.98468900e+01\n",
      "  4.99698299e+01  5.02157097e+01  5.13221687e+01  5.15680485e+01\n",
      "  5.16909884e+01  5.19368681e+01  5.21827479e+01  5.26794251e+01\n",
      "  5.28023650e+01  5.35400043e+01  5.36629442e+01  5.46464633e+01\n",
      "  5.47694032e+01  5.48923431e+01  5.50152830e+01  5.51382229e+01\n",
      "  5.56299825e+01  5.58758623e+01  5.62446819e+01  5.63676218e+01\n",
      "  5.66135016e+01  5.67364415e+01  5.68593814e+01  5.73511410e+01\n",
      "  5.76019383e+01  5.78478181e+01  5.79707580e+01  5.80936979e+01\n",
      "  5.84625176e+01  5.85854575e+01  5.87083974e+01  5.90772170e+01\n",
      "  5.92001569e+01  6.01836761e+01  6.04295559e+01  6.05524957e+01\n",
      "  6.06754356e+01  6.07983755e+01  6.09213154e+01  6.10442553e+01\n",
      "  6.11671952e+01  6.14130750e+01  6.15360149e+01  6.19048346e+01\n",
      "  6.21507143e+01  6.22736542e+01  6.25244516e+01  6.27703314e+01\n",
      "  6.31391511e+01  6.33850308e+01  6.35079707e+01  6.36309106e+01\n",
      "  6.38767904e+01  6.43685500e+01  6.47373697e+01  6.49832494e+01\n",
      "  6.51061893e+01  6.52291292e+01  6.57208888e+01  6.59667686e+01\n",
      "  6.62126484e+01  6.65814680e+01  6.69502877e+01  6.70732276e+01\n",
      "  6.75699048e+01  6.76928446e+01  6.78157845e+01  6.80616643e+01\n",
      "  6.81846042e+01  6.83075441e+01  6.86763638e+01  6.89222436e+01\n",
      "  6.92910632e+01  6.94140031e+01  6.95369430e+01  6.96598829e+01\n",
      "  6.97828228e+01  7.00287026e+01  7.02745824e+01  7.03975223e+01\n",
      "  7.05204622e+01  7.10122217e+01  7.12581015e+01  7.13810414e+01\n",
      "  7.15039813e+01  7.17498611e+01  7.18728010e+01  7.19957409e+01\n",
      "  7.21186807e+01  7.22465382e+01  7.23694781e+01  7.24924180e+01\n",
      "  7.26153579e+01  7.27382978e+01  7.28612377e+01  7.35988770e+01\n",
      "  7.37218169e+01  7.38447568e+01  7.40906366e+01  7.48282760e+01\n",
      "  7.49512159e+01  7.50741557e+01  7.56888552e+01  7.59347350e+01\n",
      "  7.61806148e+01  7.64264946e+01  7.65494344e+01  7.66723743e+01\n",
      "  7.71690515e+01  7.72919914e+01  7.75378712e+01  7.76608111e+01\n",
      "  7.80296307e+01  7.82755105e+01  7.83984504e+01  7.85213903e+01\n",
      "  7.87672701e+01  7.88902100e+01  7.91360898e+01  7.92590297e+01\n",
      "  7.95049094e+01  7.97507892e+01  7.98737291e+01  7.99966690e+01\n",
      "  8.03654887e+01  8.04884286e+01  8.08572482e+01  8.17178275e+01\n",
      "  8.22145046e+01  8.23374445e+01  8.24603844e+01  8.25833243e+01\n",
      "  8.27062642e+01  8.28292041e+01  8.29521440e+01  8.30750839e+01\n",
      "  8.33209637e+01  8.34439036e+01  8.35668435e+01  8.36897833e+01\n",
      "  8.39356631e+01  8.41815429e+01  8.43044828e+01  8.46733025e+01\n",
      "  8.49191823e+01  8.50421222e+01  8.51650620e+01  8.52880019e+01\n",
      "  8.55338817e+01  8.57797615e+01  8.59027014e+01  8.60256413e+01\n",
      "  8.61485812e+01  8.67632806e+01  8.70140780e+01  8.72599578e+01\n",
      "  8.76287775e+01  8.77517174e+01  8.82434769e+01  8.83664168e+01\n",
      "  8.87352365e+01  8.95958157e+01  8.97187556e+01  8.99646354e+01\n",
      "  9.09481546e+01  9.13169742e+01  9.14399141e+01  9.15628540e+01\n",
      "  9.16857939e+01  9.18087338e+01  9.24283508e+01  9.26742306e+01\n",
      "  9.29201104e+01  9.34118700e+01  9.35348099e+01  9.39036295e+01\n",
      "  9.43953891e+01  9.46412689e+01  9.50100886e+01  9.53789082e+01\n",
      "  9.55018481e+01  9.56247880e+01  9.57477279e+01  9.58706678e+01\n",
      "  9.59936077e+01  9.63624274e+01  9.66083072e+01  9.67312471e+01\n",
      "  9.68591045e+01  9.73508641e+01  9.75967439e+01  9.78426237e+01\n",
      "  9.80885035e+01  9.82114433e+01  9.83343832e+01  9.85802630e+01\n",
      "  9.91949625e+01  9.93179024e+01  9.98096619e+01  1.00301422e+02\n",
      "  1.00424361e+02  1.00547301e+02  1.00670241e+02  1.00793181e+02\n",
      "  1.00916121e+02  1.01039061e+02  1.01284941e+02  1.01530820e+02\n",
      "  1.01653760e+02  1.01904558e+02  1.02027498e+02  1.02150437e+02\n",
      "  1.02273377e+02  1.02642197e+02  1.02765137e+02  1.03133957e+02\n",
      "  1.03256897e+02  1.03379836e+02  1.03625716e+02  1.03871596e+02\n",
      "  1.03994536e+02  1.04240416e+02  1.04363356e+02  1.04978055e+02\n",
      "  1.05100995e+02  1.05346875e+02  1.05592754e+02  1.05838634e+02\n",
      "  1.05961574e+02  1.06084514e+02  1.06576274e+02  1.06704131e+02\n",
      "  1.06950011e+02  1.07318831e+02  1.07810590e+02  1.07933530e+02\n",
      "  1.08302350e+02  1.08425290e+02  1.08794109e+02  1.09039989e+02]\n"
     ]
    }
   ],
   "source": [
    "#https://realpython.com/linear-regression-in-python/\n",
    "power_pred = model.predict(speed)\n",
    "print('predicted response:', power_pred, sep='\\n')"
   ]
  },
  {
   "cell_type": "code",
   "execution_count": 21,
   "metadata": {},
   "outputs": [
    {
     "ename": "AttributeError",
     "evalue": "'tuple' object has no attribute 'astype'",
     "output_type": "error",
     "traceback": [
      "\u001b[1;31m---------------------------------------------------------------------------\u001b[0m",
      "\u001b[1;31mAttributeError\u001b[0m                            Traceback (most recent call last)",
      "\u001b[1;32m<ipython-input-21-719d3f3dfbbe>\u001b[0m in \u001b[0;36m<module>\u001b[1;34m\u001b[0m\n\u001b[0;32m      2\u001b[0m \u001b[0mpower\u001b[0m \u001b[1;33m=\u001b[0m \u001b[0mnp\u001b[0m\u001b[1;33m.\u001b[0m\u001b[0marray\u001b[0m\u001b[1;33m(\u001b[0m\u001b[0mpower\u001b[0m\u001b[1;33m)\u001b[0m\u001b[1;33m\u001b[0m\u001b[1;33m\u001b[0m\u001b[0m\n\u001b[0;32m      3\u001b[0m \u001b[0mdf\u001b[0m \u001b[1;33m=\u001b[0m \u001b[1;33m(\u001b[0m\u001b[0mspeed\u001b[0m\u001b[1;33m,\u001b[0m\u001b[0mpower\u001b[0m\u001b[1;33m)\u001b[0m\u001b[1;33m\u001b[0m\u001b[1;33m\u001b[0m\u001b[0m\n\u001b[1;32m----> 4\u001b[1;33m \u001b[0mdf\u001b[0m \u001b[1;33m=\u001b[0m \u001b[0mdf\u001b[0m\u001b[1;33m.\u001b[0m\u001b[0mastype\u001b[0m\u001b[1;33m(\u001b[0m\u001b[0mnp\u001b[0m\u001b[1;33m.\u001b[0m\u001b[0mfloat64\u001b[0m\u001b[1;33m)\u001b[0m\u001b[1;33m\u001b[0m\u001b[1;33m\u001b[0m\u001b[0m\n\u001b[0m\u001b[0;32m      5\u001b[0m \u001b[0mprint\u001b[0m \u001b[1;33m(\u001b[0m\u001b[0mspeed\u001b[0m\u001b[1;33m)\u001b[0m\u001b[1;33m\u001b[0m\u001b[1;33m\u001b[0m\u001b[0m\n\u001b[0;32m      6\u001b[0m \u001b[0mprint\u001b[0m \u001b[1;33m(\u001b[0m\u001b[0mpower\u001b[0m\u001b[1;33m)\u001b[0m\u001b[1;33m\u001b[0m\u001b[1;33m\u001b[0m\u001b[0m\n",
      "\u001b[1;31mAttributeError\u001b[0m: 'tuple' object has no attribute 'astype'"
     ]
    }
   ],
   "source": [
    "speed = np.array(speed).reshape((-1, 1))\n",
    "power = np.array(power)\n",
    "df = (speed,power)\n",
    "df = df.astype(np.float64)\n",
    "print (speed)\n",
    "print (power)"
   ]
  },
  {
   "cell_type": "code",
   "execution_count": 29,
   "metadata": {},
   "outputs": [
    {
     "ename": "AttributeError",
     "evalue": "'tuple' object has no attribute 'speed'",
     "output_type": "error",
     "traceback": [
      "\u001b[1;31m---------------------------------------------------------------------------\u001b[0m",
      "\u001b[1;31mAttributeError\u001b[0m                            Traceback (most recent call last)",
      "\u001b[1;32m<ipython-input-29-8abe69830431>\u001b[0m in \u001b[0;36m<module>\u001b[1;34m\u001b[0m\n\u001b[0;32m      3\u001b[0m \u001b[1;32mfrom\u001b[0m \u001b[0msklearn\u001b[0m\u001b[1;33m.\u001b[0m\u001b[0mmetrics\u001b[0m \u001b[1;32mimport\u001b[0m \u001b[0mr2_score\u001b[0m\u001b[1;33m\u001b[0m\u001b[1;33m\u001b[0m\u001b[0m\n\u001b[0;32m      4\u001b[0m \u001b[1;33m\u001b[0m\u001b[0m\n\u001b[1;32m----> 5\u001b[1;33m \u001b[0mspeed\u001b[0m \u001b[1;33m=\u001b[0m \u001b[0mdf\u001b[0m\u001b[1;33m.\u001b[0m\u001b[0mspeed\u001b[0m\u001b[1;33m.\u001b[0m\u001b[0mto_numpy\u001b[0m\u001b[1;33m(\u001b[0m\u001b[1;33m)\u001b[0m\u001b[1;33m\u001b[0m\u001b[1;33m\u001b[0m\u001b[0m\n\u001b[0m\u001b[0;32m      6\u001b[0m \u001b[0mpower\u001b[0m \u001b[1;33m=\u001b[0m \u001b[0mdf\u001b[0m\u001b[1;33m.\u001b[0m\u001b[0mpower\u001b[0m\u001b[1;33m.\u001b[0m\u001b[0mto_numpy\u001b[0m\u001b[1;33m(\u001b[0m\u001b[1;33m)\u001b[0m\u001b[1;33m.\u001b[0m\u001b[0mreshape\u001b[0m\u001b[1;33m(\u001b[0m\u001b[1;33m-\u001b[0m\u001b[1;36m1\u001b[0m\u001b[1;33m,\u001b[0m \u001b[1;36m1\u001b[0m\u001b[1;33m)\u001b[0m\u001b[1;33m\u001b[0m\u001b[1;33m\u001b[0m\u001b[0m\n\u001b[0;32m      7\u001b[0m \u001b[1;33m\u001b[0m\u001b[0m\n",
      "\u001b[1;31mAttributeError\u001b[0m: 'tuple' object has no attribute 'speed'"
     ]
    }
   ],
   "source": [
    "# https://www.analyticsvidhya.com/blog/2020/03/polynomial-regression-python/v\n",
    "from sklearn.metrics import mean_squared_error\n",
    "from sklearn.metrics import r2_score\n",
    "\n",
    "speed = df.speed.to_numpy() \n",
    "power = df.power.to_numpy().reshape(-1, 1)\n",
    "\n",
    "# Training Model\n",
    "lm=LinearRegression()\n",
    "lm.fit(x.reshape(-1,1),y.reshape(-1,1))\n",
    "\n",
    "y_pred=lm.predict(x.reshape(-1,1))\n",
    "\n",
    "# plotting predictions\n",
    "plt.figure(figsize=(10,5))\n",
    "plt.scatter(x,y,s=15)\n",
    "plt.plot(x,y_pred,color='g')\n",
    "plt.xlabel('Speed (m/s)',fontsize=16)\n",
    "plt.ylabel('Power (%)',fontsize=16)\n",
    "plt.show()\n",
    "print(f'Root mean squared error for Linear Regression is {np.sqrt(mean_squared_error(y,y_pred))}')\n",
    "print(f'The R2 value is {r2_score(y, y_pred)}')\n",
    "\n",
    "\n"
   ]
  },
  {
   "cell_type": "code",
   "execution_count": null,
   "metadata": {},
   "outputs": [],
   "source": []
  },
  {
   "cell_type": "code",
   "execution_count": 26,
   "metadata": {},
   "outputs": [
    {
     "name": "stdout",
     "output_type": "stream",
     "text": [
      "coefficient of determination: 0.7289360258564073\n"
     ]
    }
   ],
   "source": [
    "model.fit(speed, power)\n",
    "r_sq = model.score(speed, power)\n",
    "print('coefficient of determination:', r_sq)"
   ]
  },
  {
   "cell_type": "code",
   "execution_count": 27,
   "metadata": {},
   "outputs": [],
   "source": [
    "import numpy as np\n",
    "from sklearn.linear_model import LinearRegression\n",
    "from sklearn.preprocessing import PolynomialFeatures\n",
    "x = np.array(speed).reshape((-1, 1))\n",
    "y = np.array(power)\n",
    "transformer = PolynomialFeatures(degree=2, include_bias=False)\n"
   ]
  },
  {
   "cell_type": "code",
   "execution_count": 28,
   "metadata": {},
   "outputs": [
    {
     "data": {
      "text/plain": [
       "PolynomialFeatures(include_bias=False)"
      ]
     },
     "execution_count": 28,
     "metadata": {},
     "output_type": "execute_result"
    }
   ],
   "source": [
    "transformer.fit(x)"
   ]
  },
  {
   "cell_type": "markdown",
   "metadata": {},
   "source": [
    "Model\n",
    "It looks like the data might indeed be linear. The points don't exactly fit on a straight line, but they are not far off it. We might put that down to some other factors, such as the air density, or errors, such as in our tape measure. Then we can go ahead and see what would be the best line to fit the data.\n",
    "\n",
    "Straight lines\n",
    "All straight lines can be expressed in the form $y = mx + c$. The number $m$ is the slope of the line. The slope is how much $y$ increases by when $x$ is increased by 1.0. The number $c$ is the y-intercept of the line. It's the value of $y$ when $x$ is 0.\n",
    "\n",
    "Fitting the model\n",
    "To fit a straight line to the data, we just must pick values for $m$ and $c$. These are called the parameters of the model, and we want to pick the best values possible for the parameters. That is, the best parameter values given the data observed. Below we show various lines plotted over the data, with different values for $m$ and $c$."
   ]
  },
  {
   "cell_type": "code",
   "execution_count": 36,
   "metadata": {},
   "outputs": [
    {
     "data": {
      "image/png": "[encoded data removed]",
      "text/plain": [
       "<Figure size 432x288 with 1 Axes>"
      ]
     },
     "metadata": {
      "needs_background": "light"
     },
     "output_type": "display_data"
    }
   ],
   "source": [
    "# Plot w versus d with black dots.\n",
    "plt.plot(speed, power, 'k.', label=\"Data\")\n",
    "\n",
    "# Overlay some lines on the plot.\n",
    "x = np.arange(0.0, 21.0, 1.0)\n",
    "plt.plot(x, 5.0 * x + 10.0, 'r-', label=r\"$5x + 10$\")\n",
    "plt.plot(x, 6.0 * x +  5.0, 'g-', label=r\"$6x +  5$\")\n",
    "plt.plot(x, 5.0 * x + 15.0, 'b-', label=r\"$5x + 15$\")\n",
    "\n",
    "# Add a legend.\n",
    "plt.legend()\n",
    "\n",
    "# Add axis labels.\n",
    "plt.xlabel('Speed')\n",
    "plt.ylabel('Power')\n",
    "\n",
    "# Show the plot.\n",
    "plt.show()"
   ]
  },
  {
   "cell_type": "code",
   "execution_count": 39,
   "metadata": {},
   "outputs": [
    {
     "name": "stdout",
     "output_type": "stream",
     "text": [
      "m is 1.000000 and c is 35.424186.\n"
     ]
    }
   ],
   "source": [
    "# Calculate the best values for m and c.\n",
    "\n",
    "# First calculate the means (a.k.a. averages) of w and d.\n",
    "speed_avg = np.mean(speed)\n",
    "power_avg = np.mean(power)\n",
    "\n",
    "# Subtract means from w and d.\n",
    "speed_zero = speed - speed_avg\n",
    "power_zero = power - power_avg\n",
    "\n",
    "# The best m is found by the following calculation.\n",
    "m = np.sum(speed_zero * power_zero) / np.sum(speed_zero * power_zero)\n",
    "# Use m from above to calculate the best c.\n",
    "c = power_avg - m * speed_avg\n",
    "\n",
    "print(\"m is %8.6f and c is %6.6f.\" % (m, c))"
   ]
  },
  {
   "cell_type": "code",
   "execution_count": 40,
   "metadata": {},
   "outputs": [
    {
     "data": {
      "image/png": "[encoded data removed]",
      "text/plain": [
       "<Figure size 432x288 with 1 Axes>"
      ]
     },
     "metadata": {
      "needs_background": "light"
     },
     "output_type": "display_data"
    }
   ],
   "source": [
    "# Plot the best fit line.\n",
    "plt.plot(speed, power, 'k.', label='Original data')\n",
    "plt.plot(speed, m * speed + c, 'b-', label='Best fit line')\n",
    "\n",
    "# Add axis labels and a legend.\n",
    "plt.xlabel('speed')\n",
    "plt.ylabel('power')\n",
    "plt.legend()\n",
    "\n",
    "# Show the plot.\n",
    "plt.show()"
   ]
  },
  {
   "cell_type": "code",
   "execution_count": null,
   "metadata": {},
   "outputs": [],
   "source": []
  }
 ],
 "metadata": {
  "kernelspec": {
   "display_name": "Python 3",
   "language": "python",
   "name": "python3"
  },
  "language_info": {
   "codemirror_mode": {
    "name": "ipython",
    "version": 3
   },
   "file_extension": ".py",
   "mimetype": "text/x-python",
   "name": "python",
   "nbconvert_exporter": "python",
   "pygments_lexer": "ipython3",
   "version": "3.7.7"
  }
 },
 "nbformat": 4,
 "nbformat_minor": 4
}
